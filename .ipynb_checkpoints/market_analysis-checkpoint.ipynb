{
 "cells": [
  {
   "cell_type": "code",
   "execution_count": null,
   "metadata": {
    "collapsed": true
   },
   "outputs": [],
   "source": [
    "import datetime\n",
    "import pandas as pd\n",
    "import matplotlib.pyplot as plt\n",
    "from matplotlib.finance import candlestick_ohlc\n",
    "from matplotlib.axes import Axes\n",
    "from matplotlib.dates import date2num"
   ]
  },
  {
   "cell_type": "code",
   "execution_count": null,
   "metadata": {
    "collapsed": true
   },
   "outputs": [],
   "source": [
    "def latest_weekday():\n",
    "    date_traded = datetime.date.today()\n",
    "    weekdays = (0, 1, 2, 3, 4)\n",
    "    while date_traded.weekday() not in weekdays:\n",
    "        date_traded -= datetime.timedelta(days=1)\n",
    "    return datetime.datetime(date_traded.year, date_traded.month,\n",
    "                             date_traded.day, 9, 30)"
   ]
  },
  {
   "cell_type": "code",
   "execution_count": null,
   "metadata": {
    "collapsed": true
   },
   "outputs": [],
   "source": [
    "def convert_dates(date_list, interval):\n",
    "    start_datetime = float(date_list[0][1:])\n",
    "    start_datetime = datetime.datetime.fromtimestamp(start_datetime)\n",
    "    add_interval = datetime.timedelta(seconds=interval)\n",
    "    for i in range(len(date_list)):\n",
    "        date_list[i] = start_datetime + add_interval*i\n",
    "    return date_list"
   ]
  },
  {
   "cell_type": "code",
   "execution_count": null,
   "metadata": {
    "collapsed": true
   },
   "outputs": [],
   "source": [
    "def grab_data(ticker):\n",
    "    ticker = ticker.upper()\n",
    "    base_url = 'https://www.google.com/finance/getprices?q={}'.format(ticker)\n",
    "    date_of_interest = datetime.datetime.timestamp(latest_weekday())\n",
    "    interval = 60\n",
    "    period = 1\n",
    "    period_unit = 'd'\n",
    "    params = '&ts={}&i={}&p={}{}&f=d,o,h,l,c,v'.format(date_of_interest,\n",
    "                                                       interval,\n",
    "                                                       period,\n",
    "                                                       period_unit)\n",
    "    url = base_url+params\n",
    "    headers = 'date, open, high, low, close, volume'.split(', ')\n",
    "    data = pd.read_csv(url, skiprows=7, names=headers)\n",
    "    dates = convert_dates(data['date'].tolist(), 60)\n",
    "    #dates = [d.strftime('%H:%M') for d in dates]\n",
    "    dates = pd.Series(dates)\n",
    "    data['date'] = dates\n",
    "    return data\n",
    "                                                              59,14         Bot\n"
   ]
  },
  {
   "cell_type": "code",
   "execution_count": null,
   "metadata": {
    "collapsed": true
   },
   "outputs": [],
   "source": [
    "\n",
    "def plot_data(data):\n",
    "    candlestick_ohlc(\n",
    "                     plt.gca(),\n",
    "                     list(zip(\n",
    "                      date2num(data.date.dt.to_pydatetime().tolist()),\n",
    "                      data.open.tolist(),\n",
    "                      data.high.tolist(),\n",
    "                      data.low.tolist(),\n",
    "                      data.close.tolist(),\n",
    "                      data.volume.tolist(),\n",
    "                      )),\n",
    "                     width=0.00069,\n",
    "                     colorup='g',\n",
    "                     colordown='r',\n",
    "                     )\n",
    "    plt.show()"
   ]
  }
 ],
 "metadata": {
  "anaconda-cloud": {},
  "kernelspec": {
   "display_name": "Python [conda root]",
   "language": "python",
   "name": "conda-root-py"
  },
  "language_info": {
   "codemirror_mode": {
    "name": "ipython",
    "version": 3
   },
   "file_extension": ".py",
   "mimetype": "text/x-python",
   "name": "python",
   "nbconvert_exporter": "python",
   "pygments_lexer": "ipython3",
   "version": "3.5.2"
  }
 },
 "nbformat": 4,
 "nbformat_minor": 1
}
