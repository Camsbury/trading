{
 "cells": [
  {
   "cell_type": "code",
   "execution_count": 1,
   "metadata": {
    "collapsed": true
   },
   "outputs": [],
   "source": [
    "import random\n",
    "import numpy as np\n",
    "import matplotlib.pyplot as plt"
   ]
  },
  {
   "cell_type": "code",
   "execution_count": 2,
   "metadata": {
    "collapsed": true
   },
   "outputs": [],
   "source": [
    "def roll(gain, prob):\n",
    "    if random.random() < prob:\n",
    "        return gain - 1\n",
    "    return -1"
   ]
  },
  {
   "cell_type": "code",
   "execution_count": 3,
   "metadata": {
    "collapsed": true
   },
   "outputs": [],
   "source": [
    "def roll_sequence(iteration_count, wager, gain, prob):\n",
    "    base = 1\n",
    "    for iteration in range(iteration_count):\n",
    "        base += base*wager*roll(gain, prob)\n",
    "    return base"
   ]
  },
  {
   "cell_type": "code",
   "execution_count": 4,
   "metadata": {
    "collapsed": true
   },
   "outputs": [],
   "source": [
    "def stoch_roll_sequence(iteration_count, wager, gains, probs):\n",
    "    base = 1\n",
    "    for iteration in range(iteration_count):\n",
    "        gain = random.choice(gains)\n",
    "        base += base*wager*roll(gain, probs[gain]/100)\n",
    "    return base"
   ]
  },
  {
   "cell_type": "code",
   "execution_count": 5,
   "metadata": {
    "collapsed": true
   },
   "outputs": [],
   "source": [
    "def roll_samples(sample_count, iteration_count, wager, gain, prob):\n",
    "    return np.array([roll_sequence(iteration_count, wager, gain, prob) for sample in range(sample_count)])"
   ]
  },
  {
   "cell_type": "code",
   "execution_count": 6,
   "metadata": {
    "collapsed": true
   },
   "outputs": [],
   "source": [
    "def stoch_roll_samples(sample_count, iteration_count, wager, gains, probs):\n",
    "    return np.array([stoch_roll_sequence(iteration_count, wager, gains, probs) for sample in range(sample_count)])"
   ]
  },
  {
   "cell_type": "code",
   "execution_count": 16,
   "metadata": {
    "collapsed": true
   },
   "outputs": [],
   "source": [
    " def min_prob(gain, min_gain):\n",
    "    for prob in range(1, 101):\n",
    "        samples = roll_samples(1000, 100, 1/100, gain, prob/100)\n",
    "        if np.percentile(samples, 1) > min_gain:\n",
    "            return prob\n",
    "    return 100"
   ]
  },
  {
   "cell_type": "code",
   "execution_count": 17,
   "metadata": {
    "collapsed": false
   },
   "outputs": [],
   "source": [
    "def generate_prob_profile(gains, min_gain):\n",
    "    prob_profile = {}\n",
    "    for gain in gains:\n",
    "        prob_profile[gain] = min_prob(gain, min_gain)\n",
    "    return prob_profile"
   ]
  },
  {
   "cell_type": "code",
   "execution_count": 30,
   "metadata": {
    "collapsed": false
   },
   "outputs": [
    {
     "name": "stdout",
     "output_type": "stream",
     "text": [
      "{2: 92, 3: 69, 4: 54, 5: 47, 6: 40, 7: 36, 8: 32, 9: 30, 10: 27}\n"
     ]
    }
   ],
   "source": [
    "prob_profile = generate_prob_profile(range(2,11), 2)\n",
    "print(prob_profile)"
   ]
  },
  {
   "cell_type": "code",
   "execution_count": 31,
   "metadata": {
    "collapsed": false
   },
   "outputs": [],
   "source": [
    "samples = stoch_roll_samples(1000, 100, 1/100, range(2, 11), prob_profile)\n",
    "samples.sort()"
   ]
  },
  {
   "cell_type": "code",
   "execution_count": 32,
   "metadata": {
    "collapsed": false,
    "scrolled": true
   },
   "outputs": [
    {
     "data": {
      "image/png": "[encoded data removed]",
      "text/plain": [
       "<matplotlib.figure.Figure at 0x7f8623662a90>"
      ]
     },
     "metadata": {},
     "output_type": "display_data"
    }
   ],
   "source": [
    "%matplotlib inline\n",
    "plt.plot(samples)\n",
    "plt.show()"
   ]
  }
 ],
 "metadata": {
  "anaconda-cloud": {},
  "kernelspec": {
   "display_name": "Python [conda root]",
   "language": "python",
   "name": "conda-root-py"
  },
  "language_info": {
   "codemirror_mode": {
    "name": "ipython",
    "version": 3
   },
   "file_extension": ".py",
   "mimetype": "text/x-python",
   "name": "python",
   "nbconvert_exporter": "python",
   "pygments_lexer": "ipython3",
   "version": "3.5.2"
  }
 },
 "nbformat": 4,
 "nbformat_minor": 1
}
